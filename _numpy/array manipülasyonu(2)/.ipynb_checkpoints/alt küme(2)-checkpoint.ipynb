{
 "cells": [
  {
   "cell_type": "markdown",
   "metadata": {},
   "source": [
    "# Array Alt Küme İşlemleri"
   ]
  },
  {
   "cell_type": "code",
   "execution_count": 1,
   "metadata": {},
   "outputs": [],
   "source": [
    "import numpy as np"
   ]
  },
  {
   "cell_type": "markdown",
   "metadata": {},
   "source": [
    "### Alt Küme Üzerinde İşlem Yapmak"
   ]
  },
  {
   "cell_type": "markdown",
   "metadata": {},
   "source": [
    "Normalde bir arrayden seçilen alt küme üzerinde işlem yapıldığında ana array üzerinde de değişiklik gerçekleşir\n",
    "Eğer bunun gerçekleşmesini istemiyorsak oluşturulan alt kümeleri bağımsızlaştırmalıyız"
   ]
  },
  {
   "cell_type": "code",
   "execution_count": 2,
   "metadata": {},
   "outputs": [
    {
     "data": {
      "text/plain": [
       "array([[2, 4, 0, 6, 1],\n",
       "       [4, 1, 6, 2, 0],\n",
       "       [1, 3, 5, 4, 6],\n",
       "       [8, 4, 2, 3, 4],\n",
       "       [9, 3, 6, 4, 3]])"
      ]
     },
     "execution_count": 2,
     "metadata": {},
     "output_type": "execute_result"
    }
   ],
   "source": [
    "a2 = np.random.randint(10,size = (5,5))\n",
    "a2"
   ]
  },
  {
   "cell_type": "code",
   "execution_count": 3,
   "metadata": {},
   "outputs": [
    {
     "data": {
      "text/plain": [
       "array([[2, 4],\n",
       "       [4, 1],\n",
       "       [1, 3]])"
      ]
     },
     "execution_count": 3,
     "metadata": {},
     "output_type": "execute_result"
    }
   ],
   "source": [
    "alt_a2 = a2[0:3,0:2]\n",
    "alt_a2"
   ]
  },
  {
   "cell_type": "markdown",
   "metadata": {},
   "source": [
    "şimdi oluşturulan alt kümede yapılan değişikliğin ana yapı üzerindeki değişikliği gözlemleyelim"
   ]
  },
  {
   "cell_type": "code",
   "execution_count": 4,
   "metadata": {},
   "outputs": [
    {
     "data": {
      "text/plain": [
       "array([[99999,     4],\n",
       "       [    4,   888],\n",
       "       [    1,     3]])"
      ]
     },
     "execution_count": 4,
     "metadata": {},
     "output_type": "execute_result"
    }
   ],
   "source": [
    "alt_a2[0,0] = 99999\n",
    "alt_a2[1,1]  = 888\n",
    "alt_a2"
   ]
  },
  {
   "cell_type": "code",
   "execution_count": 5,
   "metadata": {},
   "outputs": [
    {
     "data": {
      "text/plain": [
       "array([[99999,     4,     0,     6,     1],\n",
       "       [    4,   888,     6,     2,     0],\n",
       "       [    1,     3,     5,     4,     6],\n",
       "       [    8,     4,     2,     3,     4],\n",
       "       [    9,     3,     6,     4,     3]])"
      ]
     },
     "execution_count": 5,
     "metadata": {},
     "output_type": "execute_result"
    }
   ],
   "source": [
    "a2"
   ]
  },
  {
   "cell_type": "code",
   "execution_count": 6,
   "metadata": {},
   "outputs": [],
   "source": [
    "# görüldüğü üzere alt kümede yapılan değişiklik ana matrisi de değiştirdi"
   ]
  },
  {
   "cell_type": "markdown",
   "metadata": {},
   "source": [
    "şimdi yeni bir array üzerinde alt kümeyi bağımsız hale getirelim"
   ]
  },
  {
   "cell_type": "code",
   "execution_count": 7,
   "metadata": {},
   "outputs": [
    {
     "data": {
      "text/plain": [
       "array([[7, 3, 1, 6, 8],\n",
       "       [3, 6, 5, 0, 2],\n",
       "       [9, 1, 4, 3, 9],\n",
       "       [1, 6, 0, 9, 3],\n",
       "       [4, 4, 3, 2, 3]])"
      ]
     },
     "execution_count": 7,
     "metadata": {},
     "output_type": "execute_result"
    }
   ],
   "source": [
    "m2 = np.random.randint(10,size = (5,5))\n",
    "m2"
   ]
  },
  {
   "cell_type": "code",
   "execution_count": 8,
   "metadata": {},
   "outputs": [
    {
     "data": {
      "text/plain": [
       "array([[7, 3],\n",
       "       [3, 6],\n",
       "       [9, 1]])"
      ]
     },
     "execution_count": 8,
     "metadata": {},
     "output_type": "execute_result"
    }
   ],
   "source": [
    "alt_m2 = m2[0:3,0:2].copy()\n",
    "# copy metodunu array sonuna bağladığımızda seçmiş olduğumuz alt kümeyi ana arraydan bağımsız hale getirir\n",
    "alt_m2"
   ]
  },
  {
   "cell_type": "markdown",
   "metadata": {},
   "source": [
    "şimdi alt kümedeki değişikliğin ana array üzerindeki etkisini tekrar gözlemleyelim"
   ]
  },
  {
   "cell_type": "code",
   "execution_count": 9,
   "metadata": {},
   "outputs": [
    {
     "data": {
      "text/plain": [
       "array([[9999,    3],\n",
       "       [   3,    6],\n",
       "       [   9,    1]])"
      ]
     },
     "execution_count": 9,
     "metadata": {},
     "output_type": "execute_result"
    }
   ],
   "source": [
    "alt_m2[0,0] = 9999\n",
    "alt_m2\n",
    "# alt kümenin ilk satır ve ilk sütundaki elemanın değiştirdik şimdi de ana arrayi tekrar çağıralım"
   ]
  },
  {
   "cell_type": "code",
   "execution_count": 10,
   "metadata": {},
   "outputs": [
    {
     "data": {
      "text/plain": [
       "array([[7, 3, 1, 6, 8],\n",
       "       [3, 6, 5, 0, 2],\n",
       "       [9, 1, 4, 3, 9],\n",
       "       [1, 6, 0, 9, 3],\n",
       "       [4, 4, 3, 2, 3]])"
      ]
     },
     "execution_count": 10,
     "metadata": {},
     "output_type": "execute_result"
    }
   ],
   "source": [
    "m2"
   ]
  },
  {
   "cell_type": "markdown",
   "metadata": {},
   "source": [
    "görüldüğü üzere ana array yapısını ve içeriğini hala koruyor\n",
    "_copy metoduyla oluşturulan alt küme ana array üzerinde bir değişiklik yapılmasını engellemiştir_"
   ]
  }
 ],
 "metadata": {
  "kernelspec": {
   "display_name": "Python 3",
   "language": "python",
   "name": "python3"
  },
  "language_info": {
   "codemirror_mode": {
    "name": "ipython",
    "version": 3
   },
   "file_extension": ".py",
   "mimetype": "text/x-python",
   "name": "python",
   "nbconvert_exporter": "python",
   "pygments_lexer": "ipython3",
   "version": "3.9.0"
  }
 },
 "nbformat": 4,
 "nbformat_minor": 4
}
