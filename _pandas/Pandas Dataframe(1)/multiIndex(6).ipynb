{
 "cells": [
  {
   "cell_type": "code",
   "execution_count": 1,
   "metadata": {
    "ExecuteTime": {
     "end_time": "2021-02-20T10:52:52.183643Z",
     "start_time": "2021-02-20T10:52:51.353938Z"
    }
   },
   "outputs": [],
   "source": [
    "import numpy as np\n",
    "import pandas as pd"
   ]
  },
  {
   "cell_type": "code",
   "execution_count": 8,
   "metadata": {
    "ExecuteTime": {
     "end_time": "2021-02-20T10:56:43.305607Z",
     "start_time": "2021-02-20T10:56:43.292642Z"
    }
   },
   "outputs": [
    {
     "data": {
      "text/plain": [
       "array([[ 0,  1,  2,  3,  4],\n",
       "       [ 5,  6,  7,  8,  9],\n",
       "       [10, 11, 12, 13, 14],\n",
       "       [15, 16, 17, 18, 19]])"
      ]
     },
     "execution_count": 8,
     "metadata": {},
     "output_type": "execute_result"
    }
   ],
   "source": [
    "data = np.arange(0,20).reshape(4,5)\n",
    "data"
   ]
  },
  {
   "cell_type": "code",
   "execution_count": 4,
   "metadata": {
    "ExecuteTime": {
     "end_time": "2021-02-20T10:53:38.209891Z",
     "start_time": "2021-02-20T10:53:38.181968Z"
    }
   },
   "outputs": [
    {
     "data": {
      "text/html": [
       "<div>\n",
       "<style scoped>\n",
       "    .dataframe tbody tr th:only-of-type {\n",
       "        vertical-align: middle;\n",
       "    }\n",
       "\n",
       "    .dataframe tbody tr th {\n",
       "        vertical-align: top;\n",
       "    }\n",
       "\n",
       "    .dataframe thead th {\n",
       "        text-align: right;\n",
       "    }\n",
       "</style>\n",
       "<table border=\"1\" class=\"dataframe\">\n",
       "  <thead>\n",
       "    <tr style=\"text-align: right;\">\n",
       "      <th></th>\n",
       "      <th>0</th>\n",
       "      <th>1</th>\n",
       "      <th>2</th>\n",
       "      <th>3</th>\n",
       "      <th>4</th>\n",
       "    </tr>\n",
       "  </thead>\n",
       "  <tbody>\n",
       "    <tr>\n",
       "      <th>0</th>\n",
       "      <td>0</td>\n",
       "      <td>1</td>\n",
       "      <td>2</td>\n",
       "      <td>3</td>\n",
       "      <td>4</td>\n",
       "    </tr>\n",
       "    <tr>\n",
       "      <th>1</th>\n",
       "      <td>5</td>\n",
       "      <td>6</td>\n",
       "      <td>7</td>\n",
       "      <td>8</td>\n",
       "      <td>9</td>\n",
       "    </tr>\n",
       "    <tr>\n",
       "      <th>2</th>\n",
       "      <td>10</td>\n",
       "      <td>11</td>\n",
       "      <td>12</td>\n",
       "      <td>13</td>\n",
       "      <td>14</td>\n",
       "    </tr>\n",
       "    <tr>\n",
       "      <th>3</th>\n",
       "      <td>15</td>\n",
       "      <td>16</td>\n",
       "      <td>17</td>\n",
       "      <td>18</td>\n",
       "      <td>19</td>\n",
       "    </tr>\n",
       "  </tbody>\n",
       "</table>\n",
       "</div>"
      ],
      "text/plain": [
       "    0   1   2   3   4\n",
       "0   0   1   2   3   4\n",
       "1   5   6   7   8   9\n",
       "2  10  11  12  13  14\n",
       "3  15  16  17  18  19"
      ]
     },
     "execution_count": 4,
     "metadata": {},
     "output_type": "execute_result"
    }
   ],
   "source": [
    "df= pd.DataFrame(data)\n",
    "df"
   ]
  },
  {
   "cell_type": "code",
   "execution_count": 9,
   "metadata": {
    "ExecuteTime": {
     "end_time": "2021-02-20T10:59:18.619126Z",
     "start_time": "2021-02-20T10:59:18.612143Z"
    }
   },
   "outputs": [],
   "source": [
    "main_index= np.array([\"Main Index 1\",\"Main Index 1\",\"Main Index 2\",\"Main Index 2\"])"
   ]
  },
  {
   "cell_type": "code",
   "execution_count": 10,
   "metadata": {
    "ExecuteTime": {
     "end_time": "2021-02-20T10:59:20.015707Z",
     "start_time": "2021-02-20T10:59:19.999749Z"
    }
   },
   "outputs": [],
   "source": [
    "sub_index = np.array([\"Sub Index 1\",\"Sub Index 2\",\"Sub Index 1\",\"Sub Index 2\"])"
   ]
  },
  {
   "cell_type": "code",
   "execution_count": 11,
   "metadata": {
    "ExecuteTime": {
     "end_time": "2021-02-20T10:59:20.199629Z",
     "start_time": "2021-02-20T10:59:20.186663Z"
    }
   },
   "outputs": [
    {
     "data": {
      "text/html": [
       "<div>\n",
       "<style scoped>\n",
       "    .dataframe tbody tr th:only-of-type {\n",
       "        vertical-align: middle;\n",
       "    }\n",
       "\n",
       "    .dataframe tbody tr th {\n",
       "        vertical-align: top;\n",
       "    }\n",
       "\n",
       "    .dataframe thead th {\n",
       "        text-align: right;\n",
       "    }\n",
       "</style>\n",
       "<table border=\"1\" class=\"dataframe\">\n",
       "  <thead>\n",
       "    <tr style=\"text-align: right;\">\n",
       "      <th></th>\n",
       "      <th></th>\n",
       "      <th>0</th>\n",
       "      <th>1</th>\n",
       "      <th>2</th>\n",
       "      <th>3</th>\n",
       "      <th>4</th>\n",
       "    </tr>\n",
       "  </thead>\n",
       "  <tbody>\n",
       "    <tr>\n",
       "      <th rowspan=\"2\" valign=\"top\">Main Index 1</th>\n",
       "      <th>Sub Index 1</th>\n",
       "      <td>0</td>\n",
       "      <td>1</td>\n",
       "      <td>2</td>\n",
       "      <td>3</td>\n",
       "      <td>4</td>\n",
       "    </tr>\n",
       "    <tr>\n",
       "      <th>Sub Index 2</th>\n",
       "      <td>5</td>\n",
       "      <td>6</td>\n",
       "      <td>7</td>\n",
       "      <td>8</td>\n",
       "      <td>9</td>\n",
       "    </tr>\n",
       "    <tr>\n",
       "      <th rowspan=\"2\" valign=\"top\">Main Index 2</th>\n",
       "      <th>Sub Index 1</th>\n",
       "      <td>10</td>\n",
       "      <td>11</td>\n",
       "      <td>12</td>\n",
       "      <td>13</td>\n",
       "      <td>14</td>\n",
       "    </tr>\n",
       "    <tr>\n",
       "      <th>Sub Index 2</th>\n",
       "      <td>15</td>\n",
       "      <td>16</td>\n",
       "      <td>17</td>\n",
       "      <td>18</td>\n",
       "      <td>19</td>\n",
       "    </tr>\n",
       "  </tbody>\n",
       "</table>\n",
       "</div>"
      ],
      "text/plain": [
       "                           0   1   2   3   4\n",
       "Main Index 1 Sub Index 1   0   1   2   3   4\n",
       "             Sub Index 2   5   6   7   8   9\n",
       "Main Index 2 Sub Index 1  10  11  12  13  14\n",
       "             Sub Index 2  15  16  17  18  19"
      ]
     },
     "execution_count": 11,
     "metadata": {},
     "output_type": "execute_result"
    }
   ],
   "source": [
    "pd.DataFrame(data,index=[main_index,sub_index])"
   ]
  },
  {
   "cell_type": "markdown",
   "metadata": {},
   "source": [
    "* Yukarıda oluşturduğumuz np arrayini DataFrame metoduna göndererek bunları değer olarak kullandık\n",
    "* Daha sonra yine array olarak oluşturduğumuz gözlem isimlerini (satır isimlerini) indeks parametresine göndererek gözlem ismi haline df içinde gözlem indeksi haline getirdik\n",
    "* Sub Indexleri Main Indexlerin alt gözlemi olarak gönderdik. Bunu tutarlı yapmak için her iki arrayin birbiriyle örtüşmesi gerekir\n",
    "* Eğer bunların yazımında da bir farklılık olsaydı sınıflama yapılamayacağı için farklı gözlem indeksi gibi algılanır ve istediğimiz df den farklı bir df döndürülürdü"
   ]
  },
  {
   "cell_type": "code",
   "execution_count": 13,
   "metadata": {
    "ExecuteTime": {
     "end_time": "2021-02-20T11:02:40.444293Z",
     "start_time": "2021-02-20T11:02:40.429334Z"
    }
   },
   "outputs": [],
   "source": [
    "main_columns= np.array([\"Main Column 1\",\"Main Column 1\",\"Main Column 1\",\"Main Column 2\",\"Main Column 2\"])"
   ]
  },
  {
   "cell_type": "code",
   "execution_count": 14,
   "metadata": {
    "ExecuteTime": {
     "end_time": "2021-02-20T11:03:42.321497Z",
     "start_time": "2021-02-20T11:03:42.314516Z"
    }
   },
   "outputs": [],
   "source": [
    "sub_columns = np.array([\"Sub Column 1\",\"Sub Column 2\",\"Sub Column 3\",\"Sub Column 1\",\"Sub Column 2\"])"
   ]
  },
  {
   "cell_type": "code",
   "execution_count": 15,
   "metadata": {
    "ExecuteTime": {
     "end_time": "2021-02-20T11:04:10.306261Z",
     "start_time": "2021-02-20T11:04:10.280332Z"
    },
    "cell_style": "split"
   },
   "outputs": [
    {
     "data": {
      "text/html": [
       "<div>\n",
       "<style scoped>\n",
       "    .dataframe tbody tr th:only-of-type {\n",
       "        vertical-align: middle;\n",
       "    }\n",
       "\n",
       "    .dataframe tbody tr th {\n",
       "        vertical-align: top;\n",
       "    }\n",
       "\n",
       "    .dataframe thead tr th {\n",
       "        text-align: left;\n",
       "    }\n",
       "</style>\n",
       "<table border=\"1\" class=\"dataframe\">\n",
       "  <thead>\n",
       "    <tr>\n",
       "      <th></th>\n",
       "      <th colspan=\"3\" halign=\"left\">Main Column 1</th>\n",
       "      <th colspan=\"2\" halign=\"left\">Main Column 2</th>\n",
       "    </tr>\n",
       "    <tr>\n",
       "      <th></th>\n",
       "      <th>Sub Column 1</th>\n",
       "      <th>Sub Column 2</th>\n",
       "      <th>Sub Column 3</th>\n",
       "      <th>Sub Column 1</th>\n",
       "      <th>Sub Column 2</th>\n",
       "    </tr>\n",
       "  </thead>\n",
       "  <tbody>\n",
       "    <tr>\n",
       "      <th>0</th>\n",
       "      <td>0</td>\n",
       "      <td>1</td>\n",
       "      <td>2</td>\n",
       "      <td>3</td>\n",
       "      <td>4</td>\n",
       "    </tr>\n",
       "    <tr>\n",
       "      <th>1</th>\n",
       "      <td>5</td>\n",
       "      <td>6</td>\n",
       "      <td>7</td>\n",
       "      <td>8</td>\n",
       "      <td>9</td>\n",
       "    </tr>\n",
       "    <tr>\n",
       "      <th>2</th>\n",
       "      <td>10</td>\n",
       "      <td>11</td>\n",
       "      <td>12</td>\n",
       "      <td>13</td>\n",
       "      <td>14</td>\n",
       "    </tr>\n",
       "    <tr>\n",
       "      <th>3</th>\n",
       "      <td>15</td>\n",
       "      <td>16</td>\n",
       "      <td>17</td>\n",
       "      <td>18</td>\n",
       "      <td>19</td>\n",
       "    </tr>\n",
       "  </tbody>\n",
       "</table>\n",
       "</div>"
      ],
      "text/plain": [
       "  Main Column 1                           Main Column 2             \n",
       "   Sub Column 1 Sub Column 2 Sub Column 3  Sub Column 1 Sub Column 2\n",
       "0             0            1            2             3            4\n",
       "1             5            6            7             8            9\n",
       "2            10           11           12            13           14\n",
       "3            15           16           17            18           19"
      ]
     },
     "execution_count": 15,
     "metadata": {},
     "output_type": "execute_result"
    }
   ],
   "source": [
    "pd.DataFrame(data,columns=[main_columns,sub_columns])"
   ]
  },
  {
   "cell_type": "markdown",
   "metadata": {
    "cell_style": "split"
   },
   "source": [
    "* Satırlar için yaptığımız uygulamanın aynısını sütunlar için gerçekleştirdik\n",
    "* Sağlıklı bir gruplamanın sağlanması için değişken isimlerinin aynı olmasına ve hiyerarşik düzenine burada da dikkat edilmelidir"
   ]
  },
  {
   "cell_type": "markdown",
   "metadata": {},
   "source": [
    ">Şimdi de hem satırlar için hem de sütunlar için multiIndex yapılı bir df oluşturalım"
   ]
  },
  {
   "cell_type": "code",
   "execution_count": 17,
   "metadata": {
    "ExecuteTime": {
     "end_time": "2021-02-20T11:08:01.671732Z",
     "start_time": "2021-02-20T11:08:01.646798Z"
    }
   },
   "outputs": [
    {
     "data": {
      "text/html": [
       "<div>\n",
       "<style scoped>\n",
       "    .dataframe tbody tr th:only-of-type {\n",
       "        vertical-align: middle;\n",
       "    }\n",
       "\n",
       "    .dataframe tbody tr th {\n",
       "        vertical-align: top;\n",
       "    }\n",
       "\n",
       "    .dataframe thead tr th {\n",
       "        text-align: left;\n",
       "    }\n",
       "</style>\n",
       "<table border=\"1\" class=\"dataframe\">\n",
       "  <thead>\n",
       "    <tr>\n",
       "      <th></th>\n",
       "      <th></th>\n",
       "      <th colspan=\"3\" halign=\"left\">Main Column 1</th>\n",
       "      <th colspan=\"2\" halign=\"left\">Main Column 2</th>\n",
       "    </tr>\n",
       "    <tr>\n",
       "      <th></th>\n",
       "      <th></th>\n",
       "      <th>Sub Column 1</th>\n",
       "      <th>Sub Column 2</th>\n",
       "      <th>Sub Column 3</th>\n",
       "      <th>Sub Column 1</th>\n",
       "      <th>Sub Column 2</th>\n",
       "    </tr>\n",
       "  </thead>\n",
       "  <tbody>\n",
       "    <tr>\n",
       "      <th rowspan=\"2\" valign=\"top\">Main Index 1</th>\n",
       "      <th>Sub Index 1</th>\n",
       "      <td>0</td>\n",
       "      <td>1</td>\n",
       "      <td>2</td>\n",
       "      <td>3</td>\n",
       "      <td>4</td>\n",
       "    </tr>\n",
       "    <tr>\n",
       "      <th>Sub Index 2</th>\n",
       "      <td>5</td>\n",
       "      <td>6</td>\n",
       "      <td>7</td>\n",
       "      <td>8</td>\n",
       "      <td>9</td>\n",
       "    </tr>\n",
       "    <tr>\n",
       "      <th rowspan=\"2\" valign=\"top\">Main Index 2</th>\n",
       "      <th>Sub Index 1</th>\n",
       "      <td>10</td>\n",
       "      <td>11</td>\n",
       "      <td>12</td>\n",
       "      <td>13</td>\n",
       "      <td>14</td>\n",
       "    </tr>\n",
       "    <tr>\n",
       "      <th>Sub Index 2</th>\n",
       "      <td>15</td>\n",
       "      <td>16</td>\n",
       "      <td>17</td>\n",
       "      <td>18</td>\n",
       "      <td>19</td>\n",
       "    </tr>\n",
       "  </tbody>\n",
       "</table>\n",
       "</div>"
      ],
      "text/plain": [
       "                         Main Column 1                            \\\n",
       "                          Sub Column 1 Sub Column 2 Sub Column 3   \n",
       "Main Index 1 Sub Index 1             0            1            2   \n",
       "             Sub Index 2             5            6            7   \n",
       "Main Index 2 Sub Index 1            10           11           12   \n",
       "             Sub Index 2            15           16           17   \n",
       "\n",
       "                         Main Column 2               \n",
       "                          Sub Column 1 Sub Column 2  \n",
       "Main Index 1 Sub Index 1             3            4  \n",
       "             Sub Index 2             8            9  \n",
       "Main Index 2 Sub Index 1            13           14  \n",
       "             Sub Index 2            18           19  "
      ]
     },
     "execution_count": 17,
     "metadata": {},
     "output_type": "execute_result"
    }
   ],
   "source": [
    "df2 = pd.DataFrame(data,index=[main_index,sub_index],columns=[main_columns,sub_columns])\n",
    "df2"
   ]
  },
  {
   "cell_type": "markdown",
   "metadata": {},
   "source": [
    "şimdi de hem index hem de columns parametrelerini kullanarak daha önce oluşturduğumuz arrayleri gönderdik ve hem gözlemler (stırlar) hem de değişkenler (sütunlar) bazında multiIndex bir df elde ettik"
   ]
  },
  {
   "cell_type": "markdown",
   "metadata": {},
   "source": [
    "Bunlara ek olarak satırlara yani gözlemlere de bir başlık atayabiliriz. Bunun için **_index.names_** metodunu kullanarak atama yapabiliriz"
   ]
  },
  {
   "cell_type": "code",
   "execution_count": 19,
   "metadata": {
    "ExecuteTime": {
     "end_time": "2021-02-20T11:11:12.337265Z",
     "start_time": "2021-02-20T11:11:12.318287Z"
    },
    "cell_style": "split"
   },
   "outputs": [
    {
     "data": {
      "text/html": [
       "<div>\n",
       "<style scoped>\n",
       "    .dataframe tbody tr th:only-of-type {\n",
       "        vertical-align: middle;\n",
       "    }\n",
       "\n",
       "    .dataframe tbody tr th {\n",
       "        vertical-align: top;\n",
       "    }\n",
       "\n",
       "    .dataframe thead tr th {\n",
       "        text-align: left;\n",
       "    }\n",
       "\n",
       "    .dataframe thead tr:last-of-type th {\n",
       "        text-align: right;\n",
       "    }\n",
       "</style>\n",
       "<table border=\"1\" class=\"dataframe\">\n",
       "  <thead>\n",
       "    <tr>\n",
       "      <th></th>\n",
       "      <th></th>\n",
       "      <th colspan=\"3\" halign=\"left\">Main Column 1</th>\n",
       "      <th colspan=\"2\" halign=\"left\">Main Column 2</th>\n",
       "    </tr>\n",
       "    <tr>\n",
       "      <th></th>\n",
       "      <th></th>\n",
       "      <th>Sub Column 1</th>\n",
       "      <th>Sub Column 2</th>\n",
       "      <th>Sub Column 3</th>\n",
       "      <th>Sub Column 1</th>\n",
       "      <th>Sub Column 2</th>\n",
       "    </tr>\n",
       "    <tr>\n",
       "      <th>Main</th>\n",
       "      <th>Sub</th>\n",
       "      <th></th>\n",
       "      <th></th>\n",
       "      <th></th>\n",
       "      <th></th>\n",
       "      <th></th>\n",
       "    </tr>\n",
       "  </thead>\n",
       "  <tbody>\n",
       "    <tr>\n",
       "      <th rowspan=\"2\" valign=\"top\">Main Index 1</th>\n",
       "      <th>Sub Index 1</th>\n",
       "      <td>0</td>\n",
       "      <td>1</td>\n",
       "      <td>2</td>\n",
       "      <td>3</td>\n",
       "      <td>4</td>\n",
       "    </tr>\n",
       "    <tr>\n",
       "      <th>Sub Index 2</th>\n",
       "      <td>5</td>\n",
       "      <td>6</td>\n",
       "      <td>7</td>\n",
       "      <td>8</td>\n",
       "      <td>9</td>\n",
       "    </tr>\n",
       "    <tr>\n",
       "      <th rowspan=\"2\" valign=\"top\">Main Index 2</th>\n",
       "      <th>Sub Index 1</th>\n",
       "      <td>10</td>\n",
       "      <td>11</td>\n",
       "      <td>12</td>\n",
       "      <td>13</td>\n",
       "      <td>14</td>\n",
       "    </tr>\n",
       "    <tr>\n",
       "      <th>Sub Index 2</th>\n",
       "      <td>15</td>\n",
       "      <td>16</td>\n",
       "      <td>17</td>\n",
       "      <td>18</td>\n",
       "      <td>19</td>\n",
       "    </tr>\n",
       "  </tbody>\n",
       "</table>\n",
       "</div>"
      ],
      "text/plain": [
       "                         Main Column 1                            \\\n",
       "                          Sub Column 1 Sub Column 2 Sub Column 3   \n",
       "Main         Sub                                                   \n",
       "Main Index 1 Sub Index 1             0            1            2   \n",
       "             Sub Index 2             5            6            7   \n",
       "Main Index 2 Sub Index 1            10           11           12   \n",
       "             Sub Index 2            15           16           17   \n",
       "\n",
       "                         Main Column 2               \n",
       "                          Sub Column 1 Sub Column 2  \n",
       "Main         Sub                                     \n",
       "Main Index 1 Sub Index 1             3            4  \n",
       "             Sub Index 2             8            9  \n",
       "Main Index 2 Sub Index 1            13           14  \n",
       "             Sub Index 2            18           19  "
      ]
     },
     "execution_count": 19,
     "metadata": {},
     "output_type": "execute_result"
    }
   ],
   "source": [
    "df2.index.names = (\"Main\",\"Sub\")\n",
    "df2"
   ]
  },
  {
   "cell_type": "markdown",
   "metadata": {
    "cell_style": "split"
   },
   "source": [
    "* Gördüğümüz gibi Main Index ana gözlem sınıfına Main başlığını, \n",
    "* Sonraki iç gözlem sınıfı olan Sub Index gözlem sınıfına ise Sub başlığını atadık"
   ]
  },
  {
   "cell_type": "code",
   "execution_count": 27,
   "metadata": {
    "ExecuteTime": {
     "end_time": "2021-02-20T11:15:35.238734Z",
     "start_time": "2021-02-20T11:15:35.228760Z"
    },
    "cell_style": "center"
   },
   "outputs": [
    {
     "data": {
      "text/plain": [
       "MultiIndex([('Main Index 1', 'Sub Index 1'),\n",
       "            ('Main Index 1', 'Sub Index 2'),\n",
       "            ('Main Index 2', 'Sub Index 1'),\n",
       "            ('Main Index 2', 'Sub Index 2')],\n",
       "           names=['Main', 'Sub'])"
      ]
     },
     "execution_count": 27,
     "metadata": {},
     "output_type": "execute_result"
    }
   ],
   "source": [
    "df2.index"
   ]
  },
  {
   "cell_type": "code",
   "execution_count": 28,
   "metadata": {
    "ExecuteTime": {
     "end_time": "2021-02-20T11:15:46.628438Z",
     "start_time": "2021-02-20T11:15:46.622458Z"
    }
   },
   "outputs": [
    {
     "data": {
      "text/plain": [
       "FrozenList([['Main Index 1', 'Main Index 2'], ['Sub Index 1', 'Sub Index 2']])"
      ]
     },
     "execution_count": 28,
     "metadata": {},
     "output_type": "execute_result"
    }
   ],
   "source": [
    "df2.index.levels"
   ]
  },
  {
   "cell_type": "markdown",
   "metadata": {},
   "source": [
    "index.levels metodu oluşturulan MultiIndex yapının hiyerarşik düzenini yapısını açıklar\n",
    "* ilk vektörde ana satırların ismi yer alır\n",
    "* ikinci vektörde ise ikinci satırların ismi yer alır\n",
    "* alt satırların ana satırlar altında nasıl dağıldığını görüntülemek için index.codes metodu kullanılabilir"
   ]
  },
  {
   "cell_type": "code",
   "execution_count": 36,
   "metadata": {
    "ExecuteTime": {
     "end_time": "2021-02-20T11:36:16.524092Z",
     "start_time": "2021-02-20T11:36:16.505145Z"
    },
    "cell_style": "center"
   },
   "outputs": [
    {
     "data": {
      "text/plain": [
       "FrozenList([[0, 0, 1, 1], [0, 1, 0, 1]])"
      ]
     },
     "execution_count": 36,
     "metadata": {},
     "output_type": "execute_result"
    }
   ],
   "source": [
    "df2.index.codes"
   ]
  },
  {
   "cell_type": "markdown",
   "metadata": {
    "cell_style": "center"
   },
   "source": [
    "index.codes metodunun döndürdüğü sonucu inceleyecek olursak:\n",
    "* ilk boyuttaki vektör hiyerarşisi büyük olan satırın (ilk satırın) indekslerini göstermektedir\n",
    "* 0 değerinin tekrarlanmasının sebebi Main Index 1 'in 2 kere yer almasındandır. Bunun da sebebi sahip olduğu 2 alt satırdan dolayıdır\n",
    "* Tabloda 1 kere yazılır fakat arka planda 2 alt değişkene sahip olduğu için iki kere döndürülür. Bu tekilleştirme durumunu MultiIndex yapıusı sağlar\n",
    "* aynısı 1 değerleri için de geçerlidir\n",
    "* ikinci vektör ise alt değişkenlerin (sınıfın) indeks bilgileridir\n",
    "* ilk iki değer üst sınıfın sahip olduğu alt değişken indeksleridir\n",
    "* son iki değer ise diğer üst sınıfın sahip olduğu alt değişkenin indeksleridir\n",
    "* Her üst sınıfın ikisinde de tekrarlandığı için [0,1,0,1] şeklinde dizilmiştir"
   ]
  },
  {
   "cell_type": "markdown",
   "metadata": {},
   "source": [
    "#### **Not**: index için yapılan bu kontroller columns için de yapılabilir"
   ]
  },
  {
   "cell_type": "code",
   "execution_count": 39,
   "metadata": {
    "ExecuteTime": {
     "end_time": "2021-02-20T11:51:25.961184Z",
     "start_time": "2021-02-20T11:51:25.940240Z"
    },
    "cell_style": "split"
   },
   "outputs": [
    {
     "data": {
      "text/plain": [
       "MultiIndex([('Main Column 1', 'Sub Column 1'),\n",
       "            ('Main Column 1', 'Sub Column 2'),\n",
       "            ('Main Column 1', 'Sub Column 3'),\n",
       "            ('Main Column 2', 'Sub Column 1'),\n",
       "            ('Main Column 2', 'Sub Column 2')],\n",
       "           )"
      ]
     },
     "execution_count": 39,
     "metadata": {},
     "output_type": "execute_result"
    }
   ],
   "source": [
    "df2.columns"
   ]
  },
  {
   "cell_type": "code",
   "execution_count": 40,
   "metadata": {
    "ExecuteTime": {
     "end_time": "2021-02-20T11:51:43.809582Z",
     "start_time": "2021-02-20T11:51:43.801603Z"
    },
    "cell_style": "split"
   },
   "outputs": [
    {
     "data": {
      "text/plain": [
       "FrozenList([['Main Column 1', 'Main Column 2'], ['Sub Column 1', 'Sub Column 2', 'Sub Column 3']])"
      ]
     },
     "execution_count": 40,
     "metadata": {},
     "output_type": "execute_result"
    }
   ],
   "source": [
    "df2.columns.levels"
   ]
  },
  {
   "cell_type": "markdown",
   "metadata": {},
   "source": [
    "-------------------------------------------------------------------------------------------------------------------------------------"
   ]
  },
  {
   "cell_type": "markdown",
   "metadata": {},
   "source": [
    "**MultiIndex yapısını oluşturmak için özel bir metot tanımlanmıştır.** Şimdi de bu metotu kullanarak bir MultiIndex yapısı oluşturalım"
   ]
  },
  {
   "cell_type": "markdown",
   "metadata": {},
   "source": [
    "## MultiIndex.from_arrays()"
   ]
  },
  {
   "cell_type": "code",
   "execution_count": 30,
   "metadata": {
    "ExecuteTime": {
     "end_time": "2021-02-20T11:20:38.363039Z",
     "start_time": "2021-02-20T11:20:38.349078Z"
    },
    "cell_style": "split"
   },
   "outputs": [],
   "source": [
    "index_arrays = [[\"Main Index 1\",\"Main Index 1\",\"Main Index 2\",\"Main Index 2\"],\n",
    "               [\"Sub Index 1\",\"Sub Index2\",\"Sub Index 1\",\"Sub Index 2\"]]"
   ]
  },
  {
   "cell_type": "markdown",
   "metadata": {
    "cell_style": "split"
   },
   "source": [
    "* MultiIndex oluştururken kullanmak için bir array oluşturduk\n",
    "* Bu düzene göre hiyerarşisi en yüksek olan iki sınıf var: Main Index 1 ve Main Index 2\n",
    "* Bunların altı olarak da her ikisinde de Sub Index 1 ve Sub Index 2 sınıfları var"
   ]
  },
  {
   "cell_type": "code",
   "execution_count": 31,
   "metadata": {
    "ExecuteTime": {
     "end_time": "2021-02-20T11:22:17.776439Z",
     "start_time": "2021-02-20T11:22:17.759485Z"
    }
   },
   "outputs": [
    {
     "data": {
      "text/plain": [
       "MultiIndex([('Main Index 1', 'Sub Index 1'),\n",
       "            ('Main Index 1',  'Sub Index2'),\n",
       "            ('Main Index 2', 'Sub Index 1'),\n",
       "            ('Main Index 2', 'Sub Index 2')],\n",
       "           names=['Main', 'Sub'])"
      ]
     },
     "execution_count": 31,
     "metadata": {},
     "output_type": "execute_result"
    }
   ],
   "source": [
    "indeks = pd.MultiIndex.from_arrays(index_arrays,names=(\"Main\",\"Sub\"))\n",
    "indeks"
   ]
  },
  {
   "cell_type": "markdown",
   "metadata": {},
   "source": [
    "Yukarıda oluşturduğumuz arrayi **_MultiIndex.from_arrays_** metoduna göndererek multiIndex bir yapı oluşturduk\n",
    "* names parametresini kullanarak bu gözlemlere (satırlara) birer başlık atadık"
   ]
  },
  {
   "cell_type": "code",
   "execution_count": 32,
   "metadata": {
    "ExecuteTime": {
     "end_time": "2021-02-20T11:28:49.766663Z",
     "start_time": "2021-02-20T11:28:49.744722Z"
    },
    "cell_style": "split"
   },
   "outputs": [
    {
     "data": {
      "text/html": [
       "<div>\n",
       "<style scoped>\n",
       "    .dataframe tbody tr th:only-of-type {\n",
       "        vertical-align: middle;\n",
       "    }\n",
       "\n",
       "    .dataframe tbody tr th {\n",
       "        vertical-align: top;\n",
       "    }\n",
       "\n",
       "    .dataframe thead th {\n",
       "        text-align: right;\n",
       "    }\n",
       "</style>\n",
       "<table border=\"1\" class=\"dataframe\">\n",
       "  <thead>\n",
       "    <tr style=\"text-align: right;\">\n",
       "      <th></th>\n",
       "      <th></th>\n",
       "      <th>0</th>\n",
       "      <th>1</th>\n",
       "      <th>2</th>\n",
       "      <th>3</th>\n",
       "      <th>4</th>\n",
       "    </tr>\n",
       "    <tr>\n",
       "      <th>Main</th>\n",
       "      <th>Sub</th>\n",
       "      <th></th>\n",
       "      <th></th>\n",
       "      <th></th>\n",
       "      <th></th>\n",
       "      <th></th>\n",
       "    </tr>\n",
       "  </thead>\n",
       "  <tbody>\n",
       "    <tr>\n",
       "      <th rowspan=\"2\" valign=\"top\">Main Index 1</th>\n",
       "      <th>Sub Index 1</th>\n",
       "      <td>0</td>\n",
       "      <td>1</td>\n",
       "      <td>2</td>\n",
       "      <td>3</td>\n",
       "      <td>4</td>\n",
       "    </tr>\n",
       "    <tr>\n",
       "      <th>Sub Index2</th>\n",
       "      <td>5</td>\n",
       "      <td>6</td>\n",
       "      <td>7</td>\n",
       "      <td>8</td>\n",
       "      <td>9</td>\n",
       "    </tr>\n",
       "    <tr>\n",
       "      <th rowspan=\"2\" valign=\"top\">Main Index 2</th>\n",
       "      <th>Sub Index 1</th>\n",
       "      <td>10</td>\n",
       "      <td>11</td>\n",
       "      <td>12</td>\n",
       "      <td>13</td>\n",
       "      <td>14</td>\n",
       "    </tr>\n",
       "    <tr>\n",
       "      <th>Sub Index 2</th>\n",
       "      <td>15</td>\n",
       "      <td>16</td>\n",
       "      <td>17</td>\n",
       "      <td>18</td>\n",
       "      <td>19</td>\n",
       "    </tr>\n",
       "  </tbody>\n",
       "</table>\n",
       "</div>"
      ],
      "text/plain": [
       "                           0   1   2   3   4\n",
       "Main         Sub                            \n",
       "Main Index 1 Sub Index 1   0   1   2   3   4\n",
       "             Sub Index2    5   6   7   8   9\n",
       "Main Index 2 Sub Index 1  10  11  12  13  14\n",
       "             Sub Index 2  15  16  17  18  19"
      ]
     },
     "execution_count": 32,
     "metadata": {},
     "output_type": "execute_result"
    }
   ],
   "source": [
    "# şimdi bunu bir dataframe haline getireceğiz\n",
    "pd.DataFrame(np.arange(20).reshape(4,5),indeks)"
   ]
  },
  {
   "cell_type": "markdown",
   "metadata": {
    "cell_style": "split"
   },
   "source": [
    "* np.arange metoduyla 20 elemanlık bir array oluşturduk ve reshape metoduyla (4,5) lik bir matris haline getirdik\n",
    "* Bunun amacı df verilerini belirlemekti. Daha önce belirlenen verileri de bunun içine atabilirdik df2 dataframeinde yaptığımız gibi"
   ]
  },
  {
   "cell_type": "markdown",
   "metadata": {},
   "source": [
    ">Kolonlar için de MultiIndex bir yapı oluşturalım"
   ]
  },
  {
   "cell_type": "code",
   "execution_count": 33,
   "metadata": {
    "ExecuteTime": {
     "end_time": "2021-02-20T11:32:59.718857Z",
     "start_time": "2021-02-20T11:32:59.708850Z"
    }
   },
   "outputs": [],
   "source": [
    "columns_array = [[\"Main Column 1\",\"Main Column 1\",\"Main Column 1\",\"Main Column 2\",\"Main Column 2\"],\n",
    "                [\"Sub Column 1\",\"Sub Column 2\",\"Sub Column 3\",\"Sub Column 1\",\"Sub Column 2\"]]"
   ]
  },
  {
   "cell_type": "code",
   "execution_count": 34,
   "metadata": {
    "ExecuteTime": {
     "end_time": "2021-02-20T11:33:32.757080Z",
     "start_time": "2021-02-20T11:33:32.746111Z"
    }
   },
   "outputs": [],
   "source": [
    "columns = pd.MultiIndex.from_arrays(columns_array)"
   ]
  },
  {
   "cell_type": "code",
   "execution_count": 35,
   "metadata": {
    "ExecuteTime": {
     "end_time": "2021-02-20T11:34:07.429629Z",
     "start_time": "2021-02-20T11:34:07.407689Z"
    }
   },
   "outputs": [
    {
     "data": {
      "text/html": [
       "<div>\n",
       "<style scoped>\n",
       "    .dataframe tbody tr th:only-of-type {\n",
       "        vertical-align: middle;\n",
       "    }\n",
       "\n",
       "    .dataframe tbody tr th {\n",
       "        vertical-align: top;\n",
       "    }\n",
       "\n",
       "    .dataframe thead tr th {\n",
       "        text-align: left;\n",
       "    }\n",
       "\n",
       "    .dataframe thead tr:last-of-type th {\n",
       "        text-align: right;\n",
       "    }\n",
       "</style>\n",
       "<table border=\"1\" class=\"dataframe\">\n",
       "  <thead>\n",
       "    <tr>\n",
       "      <th></th>\n",
       "      <th></th>\n",
       "      <th colspan=\"3\" halign=\"left\">Main Column 1</th>\n",
       "      <th colspan=\"2\" halign=\"left\">Main Column 2</th>\n",
       "    </tr>\n",
       "    <tr>\n",
       "      <th></th>\n",
       "      <th></th>\n",
       "      <th>Sub Column 1</th>\n",
       "      <th>Sub Column 2</th>\n",
       "      <th>Sub Column 3</th>\n",
       "      <th>Sub Column 1</th>\n",
       "      <th>Sub Column 2</th>\n",
       "    </tr>\n",
       "    <tr>\n",
       "      <th>Main</th>\n",
       "      <th>Sub</th>\n",
       "      <th></th>\n",
       "      <th></th>\n",
       "      <th></th>\n",
       "      <th></th>\n",
       "      <th></th>\n",
       "    </tr>\n",
       "  </thead>\n",
       "  <tbody>\n",
       "    <tr>\n",
       "      <th rowspan=\"2\" valign=\"top\">Main Index 1</th>\n",
       "      <th>Sub Index 1</th>\n",
       "      <td>0</td>\n",
       "      <td>1</td>\n",
       "      <td>2</td>\n",
       "      <td>3</td>\n",
       "      <td>4</td>\n",
       "    </tr>\n",
       "    <tr>\n",
       "      <th>Sub Index2</th>\n",
       "      <td>5</td>\n",
       "      <td>6</td>\n",
       "      <td>7</td>\n",
       "      <td>8</td>\n",
       "      <td>9</td>\n",
       "    </tr>\n",
       "    <tr>\n",
       "      <th rowspan=\"2\" valign=\"top\">Main Index 2</th>\n",
       "      <th>Sub Index 1</th>\n",
       "      <td>10</td>\n",
       "      <td>11</td>\n",
       "      <td>12</td>\n",
       "      <td>13</td>\n",
       "      <td>14</td>\n",
       "    </tr>\n",
       "    <tr>\n",
       "      <th>Sub Index 2</th>\n",
       "      <td>15</td>\n",
       "      <td>16</td>\n",
       "      <td>17</td>\n",
       "      <td>18</td>\n",
       "      <td>19</td>\n",
       "    </tr>\n",
       "  </tbody>\n",
       "</table>\n",
       "</div>"
      ],
      "text/plain": [
       "                         Main Column 1                            \\\n",
       "                          Sub Column 1 Sub Column 2 Sub Column 3   \n",
       "Main         Sub                                                   \n",
       "Main Index 1 Sub Index 1             0            1            2   \n",
       "             Sub Index2              5            6            7   \n",
       "Main Index 2 Sub Index 1            10           11           12   \n",
       "             Sub Index 2            15           16           17   \n",
       "\n",
       "                         Main Column 2               \n",
       "                          Sub Column 1 Sub Column 2  \n",
       "Main         Sub                                     \n",
       "Main Index 1 Sub Index 1             3            4  \n",
       "             Sub Index2              8            9  \n",
       "Main Index 2 Sub Index 1            13           14  \n",
       "             Sub Index 2            18           19  "
      ]
     },
     "execution_count": 35,
     "metadata": {},
     "output_type": "execute_result"
    }
   ],
   "source": [
    "pd.DataFrame(np.arange(20).reshape(4,5),indeks,columns)"
   ]
  },
  {
   "cell_type": "markdown",
   "metadata": {},
   "source": [
    "Oluşturduğumuz MultiIndex yapılarını hem satırlar için hem kolonlar için kullandık"
   ]
  },
  {
   "cell_type": "markdown",
   "metadata": {},
   "source": [
    "####  MultiIndex yapısındaki elemanlara ulaşma işlemleri, slicing işlemleri gibi manipüle etme işlemleri bu hiyerarşik yapı gözetilerek yapılmalıdır. Yani önce ana gruba sonra alt gruba daha sonra ise değere ulaşma gibi"
   ]
  },
  {
   "cell_type": "code",
   "execution_count": null,
   "metadata": {},
   "outputs": [],
   "source": []
  }
 ],
 "metadata": {
  "kernelspec": {
   "display_name": "Python 3",
   "language": "python",
   "name": "python3"
  },
  "language_info": {
   "codemirror_mode": {
    "name": "ipython",
    "version": 3
   },
   "file_extension": ".py",
   "mimetype": "text/x-python",
   "name": "python",
   "nbconvert_exporter": "python",
   "pygments_lexer": "ipython3",
   "version": "3.8.5"
  }
 },
 "nbformat": 4,
 "nbformat_minor": 4
}
